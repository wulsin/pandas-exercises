{
 "cells": [
  {
   "cell_type": "code",
   "execution_count": 23,
   "metadata": {
    "collapsed": false
   },
   "outputs": [],
   "source": [
    "from pandas import *\n",
    "import matplotlib as mpl\n",
    "mpl.rc('figure', figsize=(12, 6))\n",
    "options.display.max_columns=18\n",
    "\n",
    "% matplotlib inline \n",
    "\n",
    "\n",
    "months = {'JAN' : 1, 'FEB' : 2, 'MAR' : 3, 'APR' : 4, 'MAY' : 5, 'JUN' : 6,\n",
    "          'JUL' : 7, 'AUG' : 8, 'SEP' : 9, 'OCT': 10, 'NOV': 11, 'DEC' : 12}\n",
    "of_interest = ['Obama, Barack', 'Romney, Mitt', 'Santorum, Rick', \n",
    "               'Paul, Ron', 'Gingrich, Newt']\n",
    "parties = {\n",
    "  'Bachmann, Michelle': 'Republican',\n",
    "  'Romney, Mitt': 'Republican',\n",
    "  'Obama, Barack': 'Democrat',\n",
    "  \"Roemer, Charles E. 'Buddy' III\": 'Reform',\n",
    "  'Pawlenty, Timothy': 'Republican',\n",
    "  'Johnson, Gary Earl': 'Libertarian',\n",
    "  'Paul, Ron': 'Republican',\n",
    "  'Santorum, Rick': 'Republican',\n",
    "  'Cain, Herman': 'Republican',\n",
    "  'Gingrich, Newt': 'Republican',\n",
    "  'McCotter, Thaddeus G': 'Republican',\n",
    "  'Huntsman, Jon': 'Republican',\n",
    "  'Perry, Rick': 'Republican'           \n",
    " }"
   ]
  },
  {
   "cell_type": "code",
   "execution_count": 3,
   "metadata": {
    "collapsed": false
   },
   "outputs": [
    {
     "name": "stderr",
     "output_type": "stream",
     "text": [
      "/Users/hwwulsin/anaconda/lib/python2.7/site-packages/IPython/core/interactiveshell.py:2723: DtypeWarning: Columns (6) have mixed types. Specify dtype option on import or set low_memory=False.\n",
      "  interactivity=interactivity, compiler=compiler, result=result)\n"
     ]
    }
   ],
   "source": [
    "fec = read_csv('P00000001-ALL.txt')"
   ]
  },
  {
   "cell_type": "code",
   "execution_count": 7,
   "metadata": {
    "collapsed": false
   },
   "outputs": [
    {
     "data": {
      "text/html": [
       "<div>\n",
       "<table border=\"1\" class=\"dataframe\">\n",
       "  <thead>\n",
       "    <tr style=\"text-align: right;\">\n",
       "      <th></th>\n",
       "      <th>cmte_id</th>\n",
       "      <th>cand_id</th>\n",
       "      <th>cand_nm</th>\n",
       "      <th>contbr_nm</th>\n",
       "      <th>contbr_city</th>\n",
       "      <th>contbr_st</th>\n",
       "      <th>contbr_zip</th>\n",
       "      <th>contbr_employer</th>\n",
       "      <th>contbr_occupation</th>\n",
       "      <th>contb_receipt_amt</th>\n",
       "      <th>contb_receipt_dt</th>\n",
       "      <th>receipt_desc</th>\n",
       "      <th>memo_cd</th>\n",
       "      <th>memo_text</th>\n",
       "      <th>form_tp</th>\n",
       "      <th>file_num</th>\n",
       "    </tr>\n",
       "  </thead>\n",
       "  <tbody>\n",
       "    <tr>\n",
       "      <th>0</th>\n",
       "      <td>C00410118</td>\n",
       "      <td>P20002978</td>\n",
       "      <td>Bachmann, Michelle</td>\n",
       "      <td>HARVEY, WILLIAM</td>\n",
       "      <td>MOBILE</td>\n",
       "      <td>AL</td>\n",
       "      <td>3.6601e+08</td>\n",
       "      <td>RETIRED</td>\n",
       "      <td>RETIRED</td>\n",
       "      <td>250.0</td>\n",
       "      <td>20-JUN-11</td>\n",
       "      <td>NaN</td>\n",
       "      <td>NaN</td>\n",
       "      <td>NaN</td>\n",
       "      <td>SA17A</td>\n",
       "      <td>736166</td>\n",
       "    </tr>\n",
       "    <tr>\n",
       "      <th>1</th>\n",
       "      <td>C00410118</td>\n",
       "      <td>P20002978</td>\n",
       "      <td>Bachmann, Michelle</td>\n",
       "      <td>HARVEY, WILLIAM</td>\n",
       "      <td>MOBILE</td>\n",
       "      <td>AL</td>\n",
       "      <td>3.6601e+08</td>\n",
       "      <td>RETIRED</td>\n",
       "      <td>RETIRED</td>\n",
       "      <td>50.0</td>\n",
       "      <td>23-JUN-11</td>\n",
       "      <td>NaN</td>\n",
       "      <td>NaN</td>\n",
       "      <td>NaN</td>\n",
       "      <td>SA17A</td>\n",
       "      <td>736166</td>\n",
       "    </tr>\n",
       "    <tr>\n",
       "      <th>2</th>\n",
       "      <td>C00410118</td>\n",
       "      <td>P20002978</td>\n",
       "      <td>Bachmann, Michelle</td>\n",
       "      <td>SMITH, LANIER</td>\n",
       "      <td>LANETT</td>\n",
       "      <td>AL</td>\n",
       "      <td>3.68633e+08</td>\n",
       "      <td>INFORMATION REQUESTED</td>\n",
       "      <td>INFORMATION REQUESTED</td>\n",
       "      <td>250.0</td>\n",
       "      <td>05-JUL-11</td>\n",
       "      <td>NaN</td>\n",
       "      <td>NaN</td>\n",
       "      <td>NaN</td>\n",
       "      <td>SA17A</td>\n",
       "      <td>749073</td>\n",
       "    </tr>\n",
       "    <tr>\n",
       "      <th>3</th>\n",
       "      <td>C00410118</td>\n",
       "      <td>P20002978</td>\n",
       "      <td>Bachmann, Michelle</td>\n",
       "      <td>BLEVINS, DARONDA</td>\n",
       "      <td>PIGGOTT</td>\n",
       "      <td>AR</td>\n",
       "      <td>7.24548e+08</td>\n",
       "      <td>NONE</td>\n",
       "      <td>RETIRED</td>\n",
       "      <td>250.0</td>\n",
       "      <td>01-AUG-11</td>\n",
       "      <td>NaN</td>\n",
       "      <td>NaN</td>\n",
       "      <td>NaN</td>\n",
       "      <td>SA17A</td>\n",
       "      <td>749073</td>\n",
       "    </tr>\n",
       "    <tr>\n",
       "      <th>4</th>\n",
       "      <td>C00410118</td>\n",
       "      <td>P20002978</td>\n",
       "      <td>Bachmann, Michelle</td>\n",
       "      <td>WARDENBURG, HAROLD</td>\n",
       "      <td>HOT SPRINGS NATION</td>\n",
       "      <td>AR</td>\n",
       "      <td>7.19016e+08</td>\n",
       "      <td>NONE</td>\n",
       "      <td>RETIRED</td>\n",
       "      <td>300.0</td>\n",
       "      <td>20-JUN-11</td>\n",
       "      <td>NaN</td>\n",
       "      <td>NaN</td>\n",
       "      <td>NaN</td>\n",
       "      <td>SA17A</td>\n",
       "      <td>736166</td>\n",
       "    </tr>\n",
       "  </tbody>\n",
       "</table>\n",
       "</div>"
      ],
      "text/plain": [
       "     cmte_id    cand_id             cand_nm           contbr_nm  \\\n",
       "0  C00410118  P20002978  Bachmann, Michelle     HARVEY, WILLIAM   \n",
       "1  C00410118  P20002978  Bachmann, Michelle     HARVEY, WILLIAM   \n",
       "2  C00410118  P20002978  Bachmann, Michelle       SMITH, LANIER   \n",
       "3  C00410118  P20002978  Bachmann, Michelle    BLEVINS, DARONDA   \n",
       "4  C00410118  P20002978  Bachmann, Michelle  WARDENBURG, HAROLD   \n",
       "\n",
       "          contbr_city contbr_st   contbr_zip        contbr_employer  \\\n",
       "0              MOBILE        AL   3.6601e+08                RETIRED   \n",
       "1              MOBILE        AL   3.6601e+08                RETIRED   \n",
       "2              LANETT        AL  3.68633e+08  INFORMATION REQUESTED   \n",
       "3             PIGGOTT        AR  7.24548e+08                   NONE   \n",
       "4  HOT SPRINGS NATION        AR  7.19016e+08                   NONE   \n",
       "\n",
       "       contbr_occupation  contb_receipt_amt contb_receipt_dt receipt_desc  \\\n",
       "0                RETIRED              250.0        20-JUN-11          NaN   \n",
       "1                RETIRED               50.0        23-JUN-11          NaN   \n",
       "2  INFORMATION REQUESTED              250.0        05-JUL-11          NaN   \n",
       "3                RETIRED              250.0        01-AUG-11          NaN   \n",
       "4                RETIRED              300.0        20-JUN-11          NaN   \n",
       "\n",
       "  memo_cd memo_text form_tp  file_num  \n",
       "0     NaN       NaN   SA17A    736166  \n",
       "1     NaN       NaN   SA17A    736166  \n",
       "2     NaN       NaN   SA17A    749073  \n",
       "3     NaN       NaN   SA17A    749073  \n",
       "4     NaN       NaN   SA17A    736166  "
      ]
     },
     "execution_count": 7,
     "metadata": {},
     "output_type": "execute_result"
    }
   ],
   "source": [
    "fec.head()"
   ]
  },
  {
   "cell_type": "code",
   "execution_count": 5,
   "metadata": {
    "collapsed": false
   },
   "outputs": [
    {
     "data": {
      "text/plain": [
       "{'Bachmann, Michelle': 'Republican',\n",
       " 'Cain, Herman': 'Republican',\n",
       " 'Gingrich, Newt': 'Republican',\n",
       " 'Huntsman, Jon': 'Republican',\n",
       " 'Johnson, Gary Earl': 'Libertarian',\n",
       " 'McCotter, Thaddeus G': 'Republican',\n",
       " 'Obama, Barack': 'Democrat',\n",
       " 'Paul, Ron': 'Republican',\n",
       " 'Pawlenty, Timothy': 'Republican',\n",
       " 'Perry, Rick': 'Republican',\n",
       " \"Roemer, Charles E. 'Buddy' III\": 'Reform',\n",
       " 'Romney, Mitt': 'Republican',\n",
       " 'Santorum, Rick': 'Republican'}"
      ]
     },
     "execution_count": 5,
     "metadata": {},
     "output_type": "execute_result"
    }
   ],
   "source": [
    "parties    # dictionary"
   ]
  },
  {
   "cell_type": "code",
   "execution_count": 6,
   "metadata": {
    "collapsed": false
   },
   "outputs": [
    {
     "data": {
      "text/plain": [
       "0         Bachmann, Michelle\n",
       "1         Bachmann, Michelle\n",
       "2         Bachmann, Michelle\n",
       "3         Bachmann, Michelle\n",
       "4         Bachmann, Michelle\n",
       "5         Bachmann, Michelle\n",
       "6         Bachmann, Michelle\n",
       "7         Bachmann, Michelle\n",
       "8         Bachmann, Michelle\n",
       "9         Bachmann, Michelle\n",
       "10        Bachmann, Michelle\n",
       "11        Bachmann, Michelle\n",
       "12        Bachmann, Michelle\n",
       "13        Bachmann, Michelle\n",
       "14        Bachmann, Michelle\n",
       "15        Bachmann, Michelle\n",
       "16        Bachmann, Michelle\n",
       "17        Bachmann, Michelle\n",
       "18        Bachmann, Michelle\n",
       "19        Bachmann, Michelle\n",
       "20        Bachmann, Michelle\n",
       "21        Bachmann, Michelle\n",
       "22        Bachmann, Michelle\n",
       "23        Bachmann, Michelle\n",
       "24        Bachmann, Michelle\n",
       "25        Bachmann, Michelle\n",
       "26        Bachmann, Michelle\n",
       "27        Bachmann, Michelle\n",
       "28        Bachmann, Michelle\n",
       "29        Bachmann, Michelle\n",
       "                 ...        \n",
       "536011           Perry, Rick\n",
       "536012           Perry, Rick\n",
       "536013           Perry, Rick\n",
       "536014           Perry, Rick\n",
       "536015           Perry, Rick\n",
       "536016           Perry, Rick\n",
       "536017           Perry, Rick\n",
       "536018           Perry, Rick\n",
       "536019           Perry, Rick\n",
       "536020           Perry, Rick\n",
       "536021           Perry, Rick\n",
       "536022           Perry, Rick\n",
       "536023           Perry, Rick\n",
       "536024           Perry, Rick\n",
       "536025           Perry, Rick\n",
       "536026           Perry, Rick\n",
       "536027           Perry, Rick\n",
       "536028           Perry, Rick\n",
       "536029           Perry, Rick\n",
       "536030           Perry, Rick\n",
       "536031           Perry, Rick\n",
       "536032           Perry, Rick\n",
       "536033           Perry, Rick\n",
       "536034           Perry, Rick\n",
       "536035           Perry, Rick\n",
       "536036           Perry, Rick\n",
       "536037           Perry, Rick\n",
       "536038           Perry, Rick\n",
       "536039           Perry, Rick\n",
       "536040           Perry, Rick\n",
       "Name: cand_nm, dtype: object"
      ]
     },
     "execution_count": 6,
     "metadata": {},
     "output_type": "execute_result"
    }
   ],
   "source": [
    "fec.cand_nm"
   ]
  },
  {
   "cell_type": "code",
   "execution_count": 8,
   "metadata": {
    "collapsed": false
   },
   "outputs": [],
   "source": [
    "fec['party'] = fec.cand_nm.map(parties)  # map can take dictionary, series... \n",
    "                                         # Alternatively, use list comprehension: [parties[x] for x in fec.cand_nm]"
   ]
  },
  {
   "cell_type": "code",
   "execution_count": 9,
   "metadata": {
    "collapsed": false
   },
   "outputs": [
    {
     "data": {
      "text/plain": [
       "cmte_id                       C00410118\n",
       "cand_id                       P20002978\n",
       "cand_nm              Bachmann, Michelle\n",
       "contbr_nm               HARVEY, WILLIAM\n",
       "contbr_city                      MOBILE\n",
       "contbr_st                            AL\n",
       "contbr_zip                   3.6601e+08\n",
       "contbr_employer                 RETIRED\n",
       "contbr_occupation               RETIRED\n",
       "contb_receipt_amt                   250\n",
       "contb_receipt_dt              20-JUN-11\n",
       "receipt_desc                        NaN\n",
       "memo_cd                             NaN\n",
       "memo_text                           NaN\n",
       "form_tp                           SA17A\n",
       "file_num                         736166\n",
       "party                        Republican\n",
       "Name: 0, dtype: object"
      ]
     },
     "execution_count": 9,
     "metadata": {},
     "output_type": "execute_result"
    }
   ],
   "source": [
    "fec.ix[0]    # A single record."
   ]
  },
  {
   "cell_type": "code",
   "execution_count": 10,
   "metadata": {
    "collapsed": false
   },
   "outputs": [
    {
     "data": {
      "text/plain": [
       "Democrat       292400\n",
       "Republican     237575\n",
       "Reform           5364\n",
       "Libertarian       702\n",
       "Name: party, dtype: int64"
      ]
     },
     "execution_count": 10,
     "metadata": {},
     "output_type": "execute_result"
    }
   ],
   "source": [
    "fec.party.value_counts()   # Doing it high level way using histogram. "
   ]
  },
  {
   "cell_type": "code",
   "execution_count": 11,
   "metadata": {
    "collapsed": false
   },
   "outputs": [
    {
     "data": {
      "text/plain": [
       "array(['Democrat', 'Libertarian', 'Reform', 'Republican'], dtype=object)"
      ]
     },
     "execution_count": 11,
     "metadata": {},
     "output_type": "execute_result"
    }
   ],
   "source": [
    "np.unique(fec.party)"
   ]
  },
  {
   "cell_type": "code",
   "execution_count": 12,
   "metadata": {
    "collapsed": false
   },
   "outputs": [
    {
     "data": {
      "text/plain": [
       "party\n",
       "Democrat       8.105758e+07\n",
       "Libertarian    4.132769e+05\n",
       "Reform         3.390338e+05\n",
       "Republican     1.192255e+08\n",
       "Name: contb_receipt_amt, dtype: float64"
      ]
     },
     "execution_count": 12,
     "metadata": {},
     "output_type": "execute_result"
    }
   ],
   "source": [
    "fec.groupby('party')['contb_receipt_amt'].sum()"
   ]
  },
  {
   "cell_type": "code",
   "execution_count": 13,
   "metadata": {
    "collapsed": false
   },
   "outputs": [
    {
     "data": {
      "text/plain": [
       "party       contb_receipt_dt\n",
       "Democrat    01-AUG-11            175281.00\n",
       "            01-DEC-11            651532.82\n",
       "            01-JAN-12             58098.80\n",
       "            01-JUL-11            165961.00\n",
       "            01-JUN-11            145459.00\n",
       "            01-MAY-11             82644.00\n",
       "            01-NOV-11            122529.87\n",
       "            01-OCT-11            148977.00\n",
       "            01-SEP-11            403297.62\n",
       "            02-AUG-11            164510.11\n",
       "            02-DEC-11            216056.96\n",
       "            02-JAN-12             89743.60\n",
       "            02-JUL-11             17105.00\n",
       "            02-JUN-11            422453.00\n",
       "            02-MAY-11            396675.00\n",
       "            02-NOV-11            147183.81\n",
       "            02-OCT-11             62605.62\n",
       "            02-SEP-11            137948.41\n",
       "            03-AUG-11            147053.02\n",
       "            03-DEC-11             81304.02\n",
       "            03-JAN-12             87406.97\n",
       "            03-JUL-11              5982.00\n",
       "            03-JUN-11            320176.20\n",
       "            03-MAY-11            261819.11\n",
       "            03-NOV-11            119304.56\n",
       "            03-OCT-11            363061.02\n",
       "            03-SEP-11             45598.00\n",
       "            04-APR-11            640235.12\n",
       "            04-AUG-11            598784.23\n",
       "            04-DEC-11             72795.10\n",
       "                                   ...    \n",
       "Republican  29-AUG-11            941769.23\n",
       "            29-DEC-11            428501.42\n",
       "            29-JAN-11               750.00\n",
       "            29-JAN-12             75220.02\n",
       "            29-JUL-11            233423.35\n",
       "            29-JUN-11           1340704.29\n",
       "            29-MAR-11             38875.00\n",
       "            29-MAY-11              8363.20\n",
       "            29-NOV-11            407322.64\n",
       "            29-OCT-11             81924.01\n",
       "            29-SEP-11           1612794.52\n",
       "            30-APR-11             43004.80\n",
       "            30-AUG-11            915548.58\n",
       "            30-DEC-11            492470.45\n",
       "            30-JAN-12            255204.80\n",
       "            30-JUL-11             12249.04\n",
       "            30-JUN-11           2744932.63\n",
       "            30-MAR-11             50240.00\n",
       "            30-MAY-11             17803.60\n",
       "            30-NOV-11            809014.83\n",
       "            30-OCT-11             43913.16\n",
       "            30-SEP-11           4886331.76\n",
       "            31-AUG-11           1017735.02\n",
       "            31-DEC-11           1094376.72\n",
       "            31-JAN-11              6000.00\n",
       "            31-JAN-12            869890.41\n",
       "            31-JUL-11             12781.02\n",
       "            31-MAR-11             62475.00\n",
       "            31-MAY-11            301339.80\n",
       "            31-OCT-11            734601.83\n",
       "Name: contb_receipt_amt, dtype: float64"
      ]
     },
     "execution_count": 13,
     "metadata": {},
     "output_type": "execute_result"
    }
   ],
   "source": [
    "fec.groupby(['party', 'contb_receipt_dt'])['contb_receipt_amt'].sum()   # Not a python date object."
   ]
  },
  {
   "cell_type": "code",
   "execution_count": 14,
   "metadata": {
    "collapsed": false
   },
   "outputs": [
    {
     "data": {
      "text/plain": [
       "'20-JUN-11'"
      ]
     },
     "execution_count": 14,
     "metadata": {},
     "output_type": "execute_result"
    }
   ],
   "source": [
    "fec.contb_receipt_dt[0]"
   ]
  },
  {
   "cell_type": "code",
   "execution_count": 15,
   "metadata": {
    "collapsed": false
   },
   "outputs": [
    {
     "name": "stdout",
     "output_type": "stream",
     "text": [
      "{'FEB': 2, 'AUG': 8, 'JAN': 1, 'DEC': 12, 'OCT': 10, 'MAR': 3, 'SEP': 9, 'MAY': 5, 'JUN': 6, 'JUL': 7, 'APR': 4, 'NOV': 11}\n"
     ]
    }
   ],
   "source": [
    "print months"
   ]
  },
  {
   "cell_type": "code",
   "execution_count": 16,
   "metadata": {
    "collapsed": false
   },
   "outputs": [],
   "source": [
    "def convert_date(val):    # function to convert date to python's date object.\n",
    "    d, m, y = val.split('-')\n",
    "    m = months[m]\n",
    "    return datetime(int ('20' + y), m, int(d))\n",
    "\n",
    "fec.contb_receipt_dt   # output a list of date (not yet in python objects).\n",
    "fec['contb_receipt_dt'] = fec.contb_receipt_dt.map(convert_date)"
   ]
  },
  {
   "cell_type": "code",
   "execution_count": 17,
   "metadata": {
    "collapsed": false
   },
   "outputs": [
    {
     "data": {
      "text/plain": [
       "Timestamp('2011-06-20 00:00:00')"
      ]
     },
     "execution_count": 17,
     "metadata": {},
     "output_type": "execute_result"
    }
   ],
   "source": [
    "fec.contb_receipt_dt[0]"
   ]
  },
  {
   "cell_type": "code",
   "execution_count": 18,
   "metadata": {
    "collapsed": false
   },
   "outputs": [
    {
     "data": {
      "text/plain": [
       "party       contb_receipt_dt\n",
       "Democrat    2011-04-04           640235.12\n",
       "            2011-04-05           307641.00\n",
       "            2011-04-06           247542.59\n",
       "            2011-04-07           252336.00\n",
       "            2011-04-08           295452.00\n",
       "            2011-04-09           105879.00\n",
       "            2011-04-10           100373.00\n",
       "            2011-04-11           360728.00\n",
       "            2011-04-12           405160.46\n",
       "            2011-04-13           382836.33\n",
       "            2011-04-14           306643.50\n",
       "            2011-04-15           408377.00\n",
       "            2011-04-16            82658.00\n",
       "            2011-04-17            70802.00\n",
       "            2011-04-18           501971.37\n",
       "            2011-04-19           304874.00\n",
       "            2011-04-20           314540.11\n",
       "            2011-04-21           315618.00\n",
       "            2011-04-22           295464.45\n",
       "            2011-04-23            34829.00\n",
       "            2011-04-24            37100.00\n",
       "            2011-04-25           447282.00\n",
       "            2011-04-26           600960.50\n",
       "            2011-04-27           188595.00\n",
       "            2011-04-28           677041.36\n",
       "            2011-04-29           294709.00\n",
       "            2011-04-30            95582.00\n",
       "            2011-05-01            82644.00\n",
       "            2011-05-02           396675.00\n",
       "            2011-05-03           261819.11\n",
       "                                   ...    \n",
       "Republican  2012-01-02           114037.13\n",
       "            2012-01-03           155803.62\n",
       "            2012-01-04           577733.61\n",
       "            2012-01-05           451065.98\n",
       "            2012-01-06           262798.46\n",
       "            2012-01-07           148145.58\n",
       "            2012-01-08            84342.84\n",
       "            2012-01-09           501931.44\n",
       "            2012-01-10           487901.67\n",
       "            2012-01-11           452916.99\n",
       "            2012-01-12           348327.39\n",
       "            2012-01-13           463368.26\n",
       "            2012-01-14           608470.68\n",
       "            2012-01-15           322194.08\n",
       "            2012-01-16           367791.70\n",
       "            2012-01-17           625365.77\n",
       "            2012-01-18           888681.17\n",
       "            2012-01-19          1066250.23\n",
       "            2012-01-20           401298.03\n",
       "            2012-01-21           374261.81\n",
       "            2012-01-22           507168.71\n",
       "            2012-01-23           645477.15\n",
       "            2012-01-24           462233.66\n",
       "            2012-01-25           416931.39\n",
       "            2012-01-26           256406.86\n",
       "            2012-01-27           368441.82\n",
       "            2012-01-28            82775.80\n",
       "            2012-01-29            75220.02\n",
       "            2012-01-30           255204.80\n",
       "            2012-01-31           869890.41\n",
       "Name: contb_receipt_amt, dtype: float64"
      ]
     },
     "execution_count": 18,
     "metadata": {},
     "output_type": "execute_result"
    }
   ],
   "source": [
    "fec.groupby(['party', 'contb_receipt_dt'])['contb_receipt_amt'].sum() # Same as above, however, date converted to python object."
   ]
  },
  {
   "cell_type": "code",
   "execution_count": 19,
   "metadata": {
    "collapsed": false
   },
   "outputs": [],
   "source": [
    "by_date = fec.groupby(['party', 'contb_receipt_dt'])['contb_receipt_amt'].sum()"
   ]
  },
  {
   "cell_type": "code",
   "execution_count": 21,
   "metadata": {
    "collapsed": false
   },
   "outputs": [
    {
     "data": {
      "text/html": [
       "<div>\n",
       "<table border=\"1\" class=\"dataframe\">\n",
       "  <thead>\n",
       "    <tr style=\"text-align: right;\">\n",
       "      <th>party</th>\n",
       "      <th>Democrat</th>\n",
       "      <th>Libertarian</th>\n",
       "      <th>Reform</th>\n",
       "      <th>Republican</th>\n",
       "    </tr>\n",
       "    <tr>\n",
       "      <th>contb_receipt_dt</th>\n",
       "      <th></th>\n",
       "      <th></th>\n",
       "      <th></th>\n",
       "      <th></th>\n",
       "    </tr>\n",
       "  </thead>\n",
       "  <tbody>\n",
       "    <tr>\n",
       "      <th>2011-01-01</th>\n",
       "      <td>NaN</td>\n",
       "      <td>NaN</td>\n",
       "      <td>NaN</td>\n",
       "      <td>8600.0</td>\n",
       "    </tr>\n",
       "    <tr>\n",
       "      <th>2011-01-03</th>\n",
       "      <td>NaN</td>\n",
       "      <td>NaN</td>\n",
       "      <td>NaN</td>\n",
       "      <td>4800.0</td>\n",
       "    </tr>\n",
       "    <tr>\n",
       "      <th>2011-01-04</th>\n",
       "      <td>NaN</td>\n",
       "      <td>NaN</td>\n",
       "      <td>NaN</td>\n",
       "      <td>5000.0</td>\n",
       "    </tr>\n",
       "    <tr>\n",
       "      <th>2011-01-12</th>\n",
       "      <td>NaN</td>\n",
       "      <td>NaN</td>\n",
       "      <td>NaN</td>\n",
       "      <td>4150.0</td>\n",
       "    </tr>\n",
       "    <tr>\n",
       "      <th>2011-01-13</th>\n",
       "      <td>NaN</td>\n",
       "      <td>NaN</td>\n",
       "      <td>NaN</td>\n",
       "      <td>4000.0</td>\n",
       "    </tr>\n",
       "  </tbody>\n",
       "</table>\n",
       "</div>"
      ],
      "text/plain": [
       "party             Democrat  Libertarian  Reform  Republican\n",
       "contb_receipt_dt                                           \n",
       "2011-01-01             NaN          NaN     NaN      8600.0\n",
       "2011-01-03             NaN          NaN     NaN      4800.0\n",
       "2011-01-04             NaN          NaN     NaN      5000.0\n",
       "2011-01-12             NaN          NaN     NaN      4150.0\n",
       "2011-01-13             NaN          NaN     NaN      4000.0"
      ]
     },
     "execution_count": 21,
     "metadata": {},
     "output_type": "execute_result"
    }
   ],
   "source": [
    "by_date.unstack('party').head()   # Indexes are dates. Columns are political parties."
   ]
  },
  {
   "cell_type": "code",
   "execution_count": 24,
   "metadata": {
    "collapsed": false
   },
   "outputs": [
    {
     "data": {
      "text/plain": [
       "<matplotlib.axes._subplots.AxesSubplot at 0x1133551d0>"
      ]
     },
     "execution_count": 24,
     "metadata": {},
     "output_type": "execute_result"
    },
    {
     "data": {
      "image/png": "[encoded data removed]",
      "text/plain": [
       "<matplotlib.figure.Figure at 0x113360710>"
      ]
     },
     "metadata": {},
     "output_type": "display_data"
    }
   ],
   "source": [
    "by_date.unstack('party').cumsum().plot()"
   ]
  },
  {
   "cell_type": "code",
   "execution_count": 25,
   "metadata": {
    "collapsed": false
   },
   "outputs": [],
   "source": [
    "s = by_date.unstack('party')[-5:].stack()"
   ]
  },
  {
   "cell_type": "code",
   "execution_count": 26,
   "metadata": {
    "collapsed": false
   },
   "outputs": [
    {
     "data": {
      "text/plain": [
       "contb_receipt_dt  party     \n",
       "2012-01-27        Democrat       305785.47\n",
       "                  Reform           3176.37\n",
       "                  Republican     368441.82\n",
       "2012-01-28        Democrat       235492.85\n",
       "                  Reform            175.00\n",
       "                  Republican      82775.80\n",
       "2012-01-29        Democrat        93177.00\n",
       "                  Reform            200.00\n",
       "                  Republican      75220.02\n",
       "2012-01-30        Democrat       435921.72\n",
       "                  Reform            130.00\n",
       "                  Republican     255204.80\n",
       "2012-01-31        Democrat      1418410.31\n",
       "                  Reform            150.00\n",
       "                  Republican     869890.41\n",
       "dtype: float64"
      ]
     },
     "execution_count": 26,
     "metadata": {},
     "output_type": "execute_result"
    }
   ],
   "source": [
    "s    # Note the inner level indexes. Not every date has 3 parties. Top level indexes are dates. stack() makes 1 dimensional.\n",
    "     # Labels propagated down for all 3 observations: political parties."
   ]
  },
  {
   "cell_type": "code",
   "execution_count": 28,
   "metadata": {
    "collapsed": false
   },
   "outputs": [
    {
     "data": {
      "text/plain": [
       "party               Democrat   Reform  Republican\n",
       "contb_receipt_dt                                 \n",
       "2012-01-27         305785.47  3176.37   368441.82\n",
       "2012-01-28         235492.85   175.00    82775.80\n",
       "2012-01-29          93177.00   200.00    75220.02\n",
       "2012-01-30         435921.72   130.00   255204.80\n",
       "2012-01-31        1418410.31   150.00   869890.41"
      ]
     },
     "execution_count": 28,
     "metadata": {},
     "output_type": "execute_result"
    }
   ],
   "source": [
    "options.display.notebook_repr_html=False  # turn off html, i.e., without table.\n",
    "s.unstack()    # unstack() 2 dimensional. "
   ]
  },
  {
   "cell_type": "code",
   "execution_count": 31,
   "metadata": {
    "collapsed": false
   },
   "outputs": [
    {
     "data": {
      "text/plain": [
       "contb_receipt_dt  party     \n",
       "2012-01-27        Democrat       305785.47\n",
       "                  Reform           3176.37\n",
       "                  Republican     368441.82\n",
       "2012-01-28        Democrat       235492.85\n",
       "                  Reform            175.00\n",
       "                  Republican      82775.80\n",
       "2012-01-29        Democrat        93177.00\n",
       "                  Reform            200.00\n",
       "                  Republican      75220.02\n",
       "2012-01-30        Democrat       435921.72\n",
       "                  Reform            130.00\n",
       "                  Republican     255204.80\n",
       "2012-01-31        Democrat      1418410.31\n",
       "                  Reform            150.00\n",
       "                  Republican     869890.41"
      ]
     },
     "execution_count": 31,
     "metadata": {},
     "output_type": "execute_result"
    }
   ],
   "source": [
    "s.unstack().stack()  # 2 dimensional to 1 dimensional"
   ]
  },
  {
   "cell_type": "code",
   "execution_count": 34,
   "metadata": {
    "collapsed": false
   },
   "outputs": [],
   "source": [
    "df = s.unstack('party')   # data frame"
   ]
  },
  {
   "cell_type": "code",
   "execution_count": 33,
   "metadata": {
    "collapsed": false
   },
   "outputs": [
    {
     "data": {
      "text/plain": [
       "contb_receipt_dt  2012-01-27  2012-01-28  2012-01-29  2012-01-30  2012-01-31\n",
       "party                                                                       \n",
       "Democrat           305785.47   235492.85    93177.00   435921.72  1418410.31\n",
       "Reform               3176.37      175.00      200.00      130.00      150.00\n",
       "Republican         368441.82    82775.80    75220.02   255204.80   869890.41"
      ]
     },
     "execution_count": 33,
     "metadata": {},
     "output_type": "execute_result"
    }
   ],
   "source": [
    "s.unstack('contb_receipt_dt')"
   ]
  },
  {
   "cell_type": "code",
   "execution_count": 35,
   "metadata": {
    "collapsed": false
   },
   "outputs": [
    {
     "data": {
      "text/plain": [
       "                           A                                B                     \n",
       "party               Democrat   Reform  Republican    Democrat   Reform  Republican\n",
       "contb_receipt_dt                                                                  \n",
       "2012-01-27         305785.47  3176.37   368441.82   305785.47  3176.37   368441.82\n",
       "2012-01-28         235492.85   175.00    82775.80   235492.85   175.00    82775.80\n",
       "2012-01-29          93177.00   200.00    75220.02    93177.00   200.00    75220.02\n",
       "2012-01-30         435921.72   130.00   255204.80   435921.72   130.00   255204.80\n",
       "2012-01-31        1418410.31   150.00   869890.41  1418410.31   150.00   869890.41"
      ]
     },
     "execution_count": 35,
     "metadata": {},
     "output_type": "execute_result"
    }
   ],
   "source": [
    "concat([df, df], axis=1, keys=['A', 'B'])  # join 2 copies of data frame.\n",
    "                                           # standard hierarchical indexing stuff."
   ]
  },
  {
   "cell_type": "code",
   "execution_count": 36,
   "metadata": {
    "collapsed": false
   },
   "outputs": [
    {
     "data": {
      "text/plain": [
       "party               Democrat   Reform  Republican\n",
       "contb_receipt_dt                                 \n",
       "2012-01-27         305785.47  3176.37   368441.82\n",
       "2012-01-28         235492.85   175.00    82775.80\n",
       "2012-01-29          93177.00   200.00    75220.02\n",
       "2012-01-30         435921.72   130.00   255204.80\n",
       "2012-01-31        1418410.31   150.00   869890.41"
      ]
     },
     "execution_count": 36,
     "metadata": {},
     "output_type": "execute_result"
    }
   ],
   "source": [
    "concat([df, df], axis=1, keys=['A', 'B'])['A']   # select out columns by the first key 'A'. Or select out the 'B' group.conc"
   ]
  },
  {
   "cell_type": "code",
   "execution_count": 37,
   "metadata": {
    "collapsed": false
   },
   "outputs": [
    {
     "data": {
      "text/plain": [
       "                                      A           B\n",
       "contb_receipt_dt party                             \n",
       "2012-01-27       Democrat     305785.47   305785.47\n",
       "                 Reform         3176.37     3176.37\n",
       "                 Republican   368441.82   368441.82\n",
       "2012-01-28       Democrat     235492.85   235492.85\n",
       "                 Reform          175.00      175.00\n",
       "                 Republican    82775.80    82775.80\n",
       "2012-01-29       Democrat      93177.00    93177.00\n",
       "                 Reform          200.00      200.00\n",
       "                 Republican    75220.02    75220.02\n",
       "2012-01-30       Democrat     435921.72   435921.72\n",
       "                 Reform          130.00      130.00\n",
       "                 Republican   255204.80   255204.80\n",
       "2012-01-31       Democrat    1418410.31  1418410.31\n",
       "                 Reform          150.00      150.00\n",
       "                 Republican   869890.41   869890.41"
      ]
     },
     "execution_count": 37,
     "metadata": {},
     "output_type": "execute_result"
    }
   ],
   "source": [
    "concat([df, df], axis=1, keys=['A', 'B']).stack('party')"
   ]
  },
  {
   "cell_type": "code",
   "execution_count": 38,
   "metadata": {
    "collapsed": false
   },
   "outputs": [
    {
     "data": {
      "text/plain": [
       "party                 Democrat   Reform  Republican\n",
       "contb_receipt_dt                                   \n",
       "2012-01-27       A   305785.47  3176.37   368441.82\n",
       "                 B   305785.47  3176.37   368441.82\n",
       "2012-01-28       A   235492.85   175.00    82775.80\n",
       "                 B   235492.85   175.00    82775.80\n",
       "2012-01-29       A    93177.00   200.00    75220.02\n",
       "                 B    93177.00   200.00    75220.02\n",
       "2012-01-30       A   435921.72   130.00   255204.80\n",
       "                 B   435921.72   130.00   255204.80\n",
       "2012-01-31       A  1418410.31   150.00   869890.41\n",
       "                 B  1418410.31   150.00   869890.41"
      ]
     },
     "execution_count": 38,
     "metadata": {},
     "output_type": "execute_result"
    }
   ],
   "source": [
    "concat([df, df], axis=1, keys=['A', 'B']).stack(0)  # The group indexes have no labels."
   ]
  },
  {
   "cell_type": "code",
   "execution_count": 40,
   "metadata": {
    "collapsed": false
   },
   "outputs": [],
   "source": [
    "result = fec.groupby(['cand_nm', 'contbr_occupation'])['contb_receipt_amt'].sum()   # Top contributors to candidates by occupation."
   ]
  },
  {
   "cell_type": "code",
   "execution_count": 41,
   "metadata": {
    "collapsed": false
   },
   "outputs": [
    {
     "data": {
      "text/plain": [
       "cand_nm             contbr_occupation             \n",
       "Bachmann, Michelle  100% DISABLED VETERAN              1869.50\n",
       "                    100% DISABLED VIETNAM VETERAN       236.25\n",
       "                    A/C AND HEAT                        250.00\n",
       "                    ACADEMIC EMPLOYMENT SPECIALIST       25.00\n",
       "                    ACCOUNT                              50.00\n",
       "                    ACCOUNT ANALYST                     200.00\n",
       "                    ACCOUNT EXECUTIVE                   100.00\n",
       "                    ACCOUNT MANAGER                     230.00\n",
       "                    ACCOUNTANT                        12979.00\n",
       "                    ACCOUNTANT TRAINER                  250.00\n",
       "                    ACCOUNTING                          350.00\n",
       "                    ACCOUNTING MANAGER                   50.00\n",
       "                    ACCOUNTING SPECIALIST               250.00\n",
       "                    ACCOUNTING SUPERVISOR               125.00\n",
       "                    ACCOUNTING/AUDITING                 700.00\n",
       "...\n",
       "Santorum, Rick  WILDLIFE REFUGE MANAGER       200.00\n",
       "                WIND FARM DEVELOPER           400.00\n",
       "                WINDOW CLEANER                 85.00\n",
       "                WINERY                        300.00\n",
       "                WIRELESS NETWORK ENGINEER     220.15\n",
       "                WITHHELD                     1000.00\n",
       "                WNG                           700.00\n",
       "                WORKER II                     300.00\n",
       "                WRITER                       4894.55\n",
       "                WRITER ACTIVIST              1112.00\n",
       "                WRITER EDITOR                 250.00\n",
       "                WRITER/ACCOUNT EXEC           500.00\n",
       "                WRITER/JOURNALIST             250.00\n",
       "                WRITER/LAWYER                 300.00\n",
       "                YOUTH MINISTER                250.00\n",
       "Name: contb_receipt_amt, Length: 40171"
      ]
     },
     "execution_count": 41,
     "metadata": {},
     "output_type": "execute_result"
    }
   ],
   "source": [
    "result  # is a data frame instead of series."
   ]
  },
  {
   "cell_type": "code",
   "execution_count": 42,
   "metadata": {
    "collapsed": false
   },
   "outputs": [
    {
     "data": {
      "text/plain": [
       "cand_nm\n",
       "Paul, Ron    1556\n",
       "Name: contb_receipt_amt"
      ]
     },
     "execution_count": 42,
     "metadata": {},
     "output_type": "execute_result"
    }
   ],
   "source": [
    "result[:, 'ZOMBIE SLAYER']"
   ]
  },
  {
   "cell_type": "code",
   "execution_count": 43,
   "metadata": {
    "collapsed": false
   },
   "outputs": [
    {
     "data": {
      "text/plain": [
       "<class 'pandas.core.frame.DataFrame'>\n",
       "MultiIndex: 40171 entries, ('Bachmann, Michelle', '100% DISABLED VETERAN') to ('Santorum, Rick', 'YOUTH MINISTER')\n",
       "Data columns:\n",
       "contb_receipt_amt    40171  non-null values\n",
       "file_num             40171  non-null values\n",
       "dtypes: float64(2)"
      ]
     },
     "execution_count": 43,
     "metadata": {},
     "output_type": "execute_result"
    }
   ],
   "source": [
    "result = fec.groupby(['cand_nm', 'contbr_occupation']).sum()  # When doing this aggregation, we don't need to select the columns as above.\n",
    "# There are columns that are not possible to sum. The code actually tries to sum them all: nuisance columns. Whenever it fails, it just silently drops them out."
   ]
  },
  {
   "cell_type": "code",
   "execution_count": 44,
   "metadata": {
    "collapsed": false
   },
   "outputs": [],
   "source": [
    "result = result.reset_index()  # opposite of set_index(). Took 'cand_nm' and 'contbr_occupation' and set them as col indexes again, so that the indexes are just simple integer indexes."
   ]
  },
  {
   "cell_type": "code",
   "execution_count": 45,
   "metadata": {
    "collapsed": false
   },
   "outputs": [
    {
     "data": {
      "text/plain": [
       "<class 'pandas.core.frame.DataFrame'>\n",
       "Int64Index: 40171 entries, 0 to 40170\n",
       "Data columns:\n",
       "cand_nm              40171  non-null values\n",
       "contbr_occupation    40171  non-null values\n",
       "contb_receipt_amt    40171  non-null values\n",
       "dtypes: float64(1), object(2)"
      ]
     },
     "execution_count": 45,
     "metadata": {},
     "output_type": "execute_result"
    }
   ],
   "source": [
    "result"
   ]
  },
  {
   "cell_type": "code",
   "execution_count": 48,
   "metadata": {
    "collapsed": false
   },
   "outputs": [
    {
     "data": {
      "text/html": [
       "<div style=\"max-height:1000px;max-width:1500px;overflow:auto;\">\n",
       "<table border=\"1\">\n",
       "  <thead>\n",
       "    <tr>\n",
       "      <th></th>\n",
       "      <th></th>\n",
       "      <th>cand_nm</th>\n",
       "      <th>contbr_occupation</th>\n",
       "      <th>contb_receipt_amt</th>\n",
       "    </tr>\n",
       "    <tr>\n",
       "      <th>cand_nm</th>\n",
       "      <th>None</th>\n",
       "      <th></th>\n",
       "      <th></th>\n",
       "      <th></th>\n",
       "    </tr>\n",
       "  </thead>\n",
       "  <tbody>\n",
       "    <tr>\n",
       "      <td><strong>Bachmann, Michelle</strong></td>\n",
       "      <td><strong>921</strong></td>\n",
       "      <td>             Bachmann, Michelle</td>\n",
       "      <td>                              PRESIDENT</td>\n",
       "      <td>    68781.00</td>\n",
       "    </tr>\n",
       "    <tr>\n",
       "      <td><strong>Bachmann, Michelle</strong></td>\n",
       "      <td><strong>893</strong></td>\n",
       "      <td>             Bachmann, Michelle</td>\n",
       "      <td>                              PHYSICIAN</td>\n",
       "      <td>    76134.00</td>\n",
       "    </tr>\n",
       "    <tr>\n",
       "      <td><strong>Bachmann, Michelle</strong></td>\n",
       "      <td><strong>555</strong></td>\n",
       "      <td>             Bachmann, Michelle</td>\n",
       "      <td>                              HOMEMAKER</td>\n",
       "      <td>   102540.00</td>\n",
       "    </tr>\n",
       "    <tr>\n",
       "      <td><strong>Bachmann, Michelle</strong></td>\n",
       "      <td><strong>594</strong></td>\n",
       "      <td>             Bachmann, Michelle</td>\n",
       "      <td>                  INFORMATION REQUESTED</td>\n",
       "      <td>   147638.89</td>\n",
       "    </tr>\n",
       "    <tr>\n",
       "      <td><strong>Bachmann, Michelle</strong></td>\n",
       "      <td><strong>1059</strong></td>\n",
       "      <td>             Bachmann, Michelle</td>\n",
       "      <td>                                RETIRED</td>\n",
       "      <td>   824618.05</td>\n",
       "    </tr>\n",
       "    <tr>\n",
       "      <td><strong>Cain, Herman</strong></td>\n",
       "      <td><strong>1537</strong></td>\n",
       "      <td>                   Cain, Herman</td>\n",
       "      <td>                                    CEO</td>\n",
       "      <td>   125097.00</td>\n",
       "    </tr>\n",
       "    <tr>\n",
       "      <td><strong>Cain, Herman</strong></td>\n",
       "      <td><strong>2227</strong></td>\n",
       "      <td>                   Cain, Herman</td>\n",
       "      <td>                              PHYSICIAN</td>\n",
       "      <td>   125790.96</td>\n",
       "    </tr>\n",
       "    <tr>\n",
       "      <td><strong>Cain, Herman</strong></td>\n",
       "      <td><strong>1898</strong></td>\n",
       "      <td>                   Cain, Herman</td>\n",
       "      <td>                              HOMEMAKER</td>\n",
       "      <td>   153964.07</td>\n",
       "    </tr>\n",
       "    <tr>\n",
       "      <td><strong>Cain, Herman</strong></td>\n",
       "      <td><strong>2391</strong></td>\n",
       "      <td>                   Cain, Herman</td>\n",
       "      <td>                                RETIRED</td>\n",
       "      <td>   779635.51</td>\n",
       "    </tr>\n",
       "    <tr>\n",
       "      <td><strong>Cain, Herman</strong></td>\n",
       "      <td><strong>1929</strong></td>\n",
       "      <td>                   Cain, Herman</td>\n",
       "      <td>                  INFORMATION REQUESTED</td>\n",
       "      <td>  3838719.32</td>\n",
       "    </tr>\n",
       "    <tr>\n",
       "      <td><strong>Gingrich, Newt</strong></td>\n",
       "      <td><strong>4068</strong></td>\n",
       "      <td>                 Gingrich, Newt</td>\n",
       "      <td>                                  OWNER</td>\n",
       "      <td>   273310.00</td>\n",
       "    </tr>\n",
       "    <tr>\n",
       "      <td><strong>Gingrich, Newt</strong></td>\n",
       "      <td><strong>4222</strong></td>\n",
       "      <td>                 Gingrich, Newt</td>\n",
       "      <td>                              PRESIDENT</td>\n",
       "      <td>   332403.00</td>\n",
       "    </tr>\n",
       "    <tr>\n",
       "      <td><strong>Gingrich, Newt</strong></td>\n",
       "      <td><strong>3561</strong></td>\n",
       "      <td>                 Gingrich, Newt</td>\n",
       "      <td>                              HOMEMAKER</td>\n",
       "      <td>   426118.26</td>\n",
       "    </tr>\n",
       "    <tr>\n",
       "      <td><strong>Gingrich, Newt</strong></td>\n",
       "      <td><strong>3611</strong></td>\n",
       "      <td>                 Gingrich, Newt</td>\n",
       "      <td> INFORMATION REQUESTED PER BEST EFFORTS</td>\n",
       "      <td>   910147.00</td>\n",
       "    </tr>\n",
       "    <tr>\n",
       "      <td><strong>Gingrich, Newt</strong></td>\n",
       "      <td><strong>4484</strong></td>\n",
       "      <td>                 Gingrich, Newt</td>\n",
       "      <td>                                RETIRED</td>\n",
       "      <td>  2279602.27</td>\n",
       "    </tr>\n",
       "    <tr>\n",
       "      <td><strong>Huntsman, Jon</strong></td>\n",
       "      <td><strong>5470</strong></td>\n",
       "      <td>                  Huntsman, Jon</td>\n",
       "      <td>                              PRESIDENT</td>\n",
       "      <td>    92251.00</td>\n",
       "    </tr>\n",
       "    <tr>\n",
       "      <td><strong>Huntsman, Jon</strong></td>\n",
       "      <td><strong>4984</strong></td>\n",
       "      <td>                  Huntsman, Jon</td>\n",
       "      <td>                               ATTORNEY</td>\n",
       "      <td>   143532.50</td>\n",
       "    </tr>\n",
       "    <tr>\n",
       "      <td><strong>Huntsman, Jon</strong></td>\n",
       "      <td><strong>5288</strong></td>\n",
       "      <td>                  Huntsman, Jon</td>\n",
       "      <td>                              HOMEMAKER</td>\n",
       "      <td>   241524.79</td>\n",
       "    </tr>\n",
       "    <tr>\n",
       "      <td><strong>Huntsman, Jon</strong></td>\n",
       "      <td><strong>5563</strong></td>\n",
       "      <td>                  Huntsman, Jon</td>\n",
       "      <td>                                RETIRED</td>\n",
       "      <td>   352669.00</td>\n",
       "    </tr>\n",
       "    <tr>\n",
       "      <td><strong>Huntsman, Jon</strong></td>\n",
       "      <td><strong>5301</strong></td>\n",
       "      <td>                  Huntsman, Jon</td>\n",
       "      <td> INFORMATION REQUESTED PER BEST EFFORTS</td>\n",
       "      <td>   354500.00</td>\n",
       "    </tr>\n",
       "    <tr>\n",
       "      <td><strong>Johnson, Gary Earl</strong></td>\n",
       "      <td><strong>5773</strong></td>\n",
       "      <td>             Johnson, Gary Earl</td>\n",
       "      <td>                              HOUSEWIFE</td>\n",
       "      <td>    11000.00</td>\n",
       "    </tr>\n",
       "    <tr>\n",
       "      <td><strong>Johnson, Gary Earl</strong></td>\n",
       "      <td><strong>5855</strong></td>\n",
       "      <td>             Johnson, Gary Earl</td>\n",
       "      <td>                          SELF-EMPLOYED</td>\n",
       "      <td>    14750.00</td>\n",
       "    </tr>\n",
       "    <tr>\n",
       "      <td><strong>Johnson, Gary Earl</strong></td>\n",
       "      <td><strong>5735</strong></td>\n",
       "      <td>             Johnson, Gary Earl</td>\n",
       "      <td>                             CONSULTANT</td>\n",
       "      <td>    16767.76</td>\n",
       "    </tr>\n",
       "    <tr>\n",
       "      <td><strong>Johnson, Gary Earl</strong></td>\n",
       "      <td><strong>5853</strong></td>\n",
       "      <td>             Johnson, Gary Earl</td>\n",
       "      <td>                          SELF EMPLOYED</td>\n",
       "      <td>    18781.00</td>\n",
       "    </tr>\n",
       "    <tr>\n",
       "      <td><strong>Johnson, Gary Earl</strong></td>\n",
       "      <td><strong>5845</strong></td>\n",
       "      <td>             Johnson, Gary Earl</td>\n",
       "      <td>                                RETIRED</td>\n",
       "      <td>    85763.96</td>\n",
       "    </tr>\n",
       "    <tr>\n",
       "      <td><strong>McCotter, Thaddeus G</strong></td>\n",
       "      <td><strong>5906</strong></td>\n",
       "      <td>           McCotter, Thaddeus G</td>\n",
       "      <td>                              HOMEMAKER</td>\n",
       "      <td>     2400.00</td>\n",
       "    </tr>\n",
       "    <tr>\n",
       "      <td><strong>McCotter, Thaddeus G</strong></td>\n",
       "      <td><strong>5918</strong></td>\n",
       "      <td>           McCotter, Thaddeus G</td>\n",
       "      <td>                                RETIRED</td>\n",
       "      <td>     2450.00</td>\n",
       "    </tr>\n",
       "    <tr>\n",
       "      <td><strong>McCotter, Thaddeus G</strong></td>\n",
       "      <td><strong>5904</strong></td>\n",
       "      <td>           McCotter, Thaddeus G</td>\n",
       "      <td>                             GOVERNMENT</td>\n",
       "      <td>     2500.00</td>\n",
       "    </tr>\n",
       "    <tr>\n",
       "      <td><strong>McCotter, Thaddeus G</strong></td>\n",
       "      <td><strong>5912</strong></td>\n",
       "      <td>           McCotter, Thaddeus G</td>\n",
       "      <td>                              PHYSICIAN</td>\n",
       "      <td>     3650.00</td>\n",
       "    </tr>\n",
       "    <tr>\n",
       "      <td><strong>McCotter, Thaddeus G</strong></td>\n",
       "      <td><strong>5902</strong></td>\n",
       "      <td>           McCotter, Thaddeus G</td>\n",
       "      <td>                              EXECUTIVE</td>\n",
       "      <td>     3750.00</td>\n",
       "    </tr>\n",
       "    <tr>\n",
       "      <td><strong>Obama, Barack</strong></td>\n",
       "      <td><strong>16658</strong></td>\n",
       "      <td>                  Obama, Barack</td>\n",
       "      <td>                              PHYSICIAN</td>\n",
       "      <td>  2244445.92</td>\n",
       "    </tr>\n",
       "    <tr>\n",
       "      <td><strong>Obama, Barack</strong></td>\n",
       "      <td><strong>13527</strong></td>\n",
       "      <td>                  Obama, Barack</td>\n",
       "      <td>                  INFORMATION REQUESTED</td>\n",
       "      <td>  2647247.90</td>\n",
       "    </tr>\n",
       "    <tr>\n",
       "      <td><strong>Obama, Barack</strong></td>\n",
       "      <td><strong>13113</strong></td>\n",
       "      <td>                  Obama, Barack</td>\n",
       "      <td>                              HOMEMAKER</td>\n",
       "      <td>  2780203.60</td>\n",
       "    </tr>\n",
       "    <tr>\n",
       "      <td><strong>Obama, Barack</strong></td>\n",
       "      <td><strong>7091</strong></td>\n",
       "      <td>                  Obama, Barack</td>\n",
       "      <td>                               ATTORNEY</td>\n",
       "      <td>  7112343.35</td>\n",
       "    </tr>\n",
       "    <tr>\n",
       "      <td><strong>Obama, Barack</strong></td>\n",
       "      <td><strong>18862</strong></td>\n",
       "      <td>                  Obama, Barack</td>\n",
       "      <td>                                RETIRED</td>\n",
       "      <td> 15086766.92</td>\n",
       "    </tr>\n",
       "    <tr>\n",
       "      <td><strong>Paul, Ron</strong></td>\n",
       "      <td><strong>25806</strong></td>\n",
       "      <td>                      Paul, Ron</td>\n",
       "      <td>                              HOMEMAKER</td>\n",
       "      <td>   310823.42</td>\n",
       "    </tr>\n",
       "    <tr>\n",
       "      <td><strong>Paul, Ron</strong></td>\n",
       "      <td><strong>28349</strong></td>\n",
       "      <td>                      Paul, Ron</td>\n",
       "      <td>                              REQUESTED</td>\n",
       "      <td>   381440.72</td>\n",
       "    </tr>\n",
       "    <tr>\n",
       "      <td><strong>Paul, Ron</strong></td>\n",
       "      <td><strong>27649</strong></td>\n",
       "      <td>                      Paul, Ron</td>\n",
       "      <td>                              PHYSICIAN</td>\n",
       "      <td>   509300.85</td>\n",
       "    </tr>\n",
       "    <tr>\n",
       "      <td><strong>Paul, Ron</strong></td>\n",
       "      <td><strong>24957</strong></td>\n",
       "      <td>                      Paul, Ron</td>\n",
       "      <td>                               ENGINEER</td>\n",
       "      <td>   612693.61</td>\n",
       "    </tr>\n",
       "    <tr>\n",
       "      <td><strong>Paul, Ron</strong></td>\n",
       "      <td><strong>28461</strong></td>\n",
       "      <td>                      Paul, Ron</td>\n",
       "      <td>                                RETIRED</td>\n",
       "      <td>  1799513.76</td>\n",
       "    </tr>\n",
       "    <tr>\n",
       "      <td><strong>Pawlenty, Timothy</strong></td>\n",
       "      <td><strong>30758</strong></td>\n",
       "      <td>              Pawlenty, Timothy</td>\n",
       "      <td> INFORMATION REQUESTED PER BEST EFFORTS</td>\n",
       "      <td>   197841.18</td>\n",
       "    </tr>\n",
       "    <tr>\n",
       "      <td><strong>Pawlenty, Timothy</strong></td>\n",
       "      <td><strong>30902</strong></td>\n",
       "      <td>              Pawlenty, Timothy</td>\n",
       "      <td>                              PRESIDENT</td>\n",
       "      <td>   211708.92</td>\n",
       "    </tr>\n",
       "    <tr>\n",
       "      <td><strong>Pawlenty, Timothy</strong></td>\n",
       "      <td><strong>30517</strong></td>\n",
       "      <td>              Pawlenty, Timothy</td>\n",
       "      <td>                               ATTORNEY</td>\n",
       "      <td>   238331.10</td>\n",
       "    </tr>\n",
       "    <tr>\n",
       "      <td><strong>Pawlenty, Timothy</strong></td>\n",
       "      <td><strong>30978</strong></td>\n",
       "      <td>              Pawlenty, Timothy</td>\n",
       "      <td>                                RETIRED</td>\n",
       "      <td>   584195.00</td>\n",
       "    </tr>\n",
       "    <tr>\n",
       "      <td><strong>Pawlenty, Timothy</strong></td>\n",
       "      <td><strong>30750</strong></td>\n",
       "      <td>              Pawlenty, Timothy</td>\n",
       "      <td>                              HOMEMAKER</td>\n",
       "      <td>   769514.95</td>\n",
       "    </tr>\n",
       "    <tr>\n",
       "      <td><strong>Perry, Rick</strong></td>\n",
       "      <td><strong>31205</strong></td>\n",
       "      <td>                    Perry, Rick</td>\n",
       "      <td>                               ATTORNEY</td>\n",
       "      <td>   768778.80</td>\n",
       "    </tr>\n",
       "    <tr>\n",
       "      <td><strong>Perry, Rick</strong></td>\n",
       "      <td><strong>32352</strong></td>\n",
       "      <td>                    Perry, Rick</td>\n",
       "      <td>                              PRESIDENT</td>\n",
       "      <td>   845150.00</td>\n",
       "    </tr>\n",
       "    <tr>\n",
       "      <td><strong>Perry, Rick</strong></td>\n",
       "      <td><strong>32546</strong></td>\n",
       "      <td>                    Perry, Rick</td>\n",
       "      <td>                                RETIRED</td>\n",
       "      <td>  1091671.00</td>\n",
       "    </tr>\n",
       "    <tr>\n",
       "      <td><strong>Perry, Rick</strong></td>\n",
       "      <td><strong>31880</strong></td>\n",
       "      <td>                    Perry, Rick</td>\n",
       "      <td>                              HOMEMAKER</td>\n",
       "      <td>  1818443.00</td>\n",
       "    </tr>\n",
       "    <tr>\n",
       "      <td><strong>Perry, Rick</strong></td>\n",
       "      <td><strong>31916</strong></td>\n",
       "      <td>                    Perry, Rick</td>\n",
       "      <td> INFORMATION REQUESTED PER BEST EFFORTS</td>\n",
       "      <td>  1975508.76</td>\n",
       "    </tr>\n",
       "    <tr>\n",
       "      <td><strong>Roemer, Charles E. 'Buddy' III</strong></td>\n",
       "      <td><strong>34273</strong></td>\n",
       "      <td> Roemer, Charles E. 'Buddy' III</td>\n",
       "      <td>                                STUDENT</td>\n",
       "      <td>     6733.34</td>\n",
       "    </tr>\n",
       "    <tr>\n",
       "      <td><strong>Roemer, Charles E. 'Buddy' III</strong></td>\n",
       "      <td><strong>33538</strong></td>\n",
       "      <td> Roemer, Charles E. 'Buddy' III</td>\n",
       "      <td>                              HOMEMAKER</td>\n",
       "      <td>     8195.00</td>\n",
       "    </tr>\n",
       "    <tr>\n",
       "      <td><strong>Roemer, Charles E. 'Buddy' III</strong></td>\n",
       "      <td><strong>33004</strong></td>\n",
       "      <td> Roemer, Charles E. 'Buddy' III</td>\n",
       "      <td>                               ATTORNEY</td>\n",
       "      <td>    14186.00</td>\n",
       "    </tr>\n",
       "    <tr>\n",
       "      <td><strong>Roemer, Charles E. 'Buddy' III</strong></td>\n",
       "      <td><strong>33584</strong></td>\n",
       "      <td> Roemer, Charles E. 'Buddy' III</td>\n",
       "      <td>                  INFORMATION REQUESTED</td>\n",
       "      <td>    18707.37</td>\n",
       "    </tr>\n",
       "    <tr>\n",
       "      <td><strong>Roemer, Charles E. 'Buddy' III</strong></td>\n",
       "      <td><strong>34125</strong></td>\n",
       "      <td> Roemer, Charles E. 'Buddy' III</td>\n",
       "      <td>                                RETIRED</td>\n",
       "      <td>    73000.31</td>\n",
       "    </tr>\n",
       "    <tr>\n",
       "      <td><strong>Romney, Mitt</strong></td>\n",
       "      <td><strong>37415</strong></td>\n",
       "      <td>                   Romney, Mitt</td>\n",
       "      <td>                              PRESIDENT</td>\n",
       "      <td>  1522751.99</td>\n",
       "    </tr>\n",
       "    <tr>\n",
       "      <td><strong>Romney, Mitt</strong></td>\n",
       "      <td><strong>34633</strong></td>\n",
       "      <td>                   Romney, Mitt</td>\n",
       "      <td>                               ATTORNEY</td>\n",
       "      <td>  3662610.21</td>\n",
       "    </tr>\n",
       "    <tr>\n",
       "      <td><strong>Romney, Mitt</strong></td>\n",
       "      <td><strong>36325</strong></td>\n",
       "      <td>                   Romney, Mitt</td>\n",
       "      <td>                              HOMEMAKER</td>\n",
       "      <td>  5442013.48</td>\n",
       "    </tr>\n",
       "    <tr>\n",
       "      <td><strong>Romney, Mitt</strong></td>\n",
       "      <td><strong>36419</strong></td>\n",
       "      <td>                   Romney, Mitt</td>\n",
       "      <td> INFORMATION REQUESTED PER BEST EFFORTS</td>\n",
       "      <td>  6394753.06</td>\n",
       "    </tr>\n",
       "    <tr>\n",
       "      <td><strong>Romney, Mitt</strong></td>\n",
       "      <td><strong>37919</strong></td>\n",
       "      <td>                   Romney, Mitt</td>\n",
       "      <td>                                RETIRED</td>\n",
       "      <td>  6483596.24</td>\n",
       "    </tr>\n",
       "    <tr>\n",
       "      <td><strong>Santorum, Rick</strong></td>\n",
       "      <td><strong>38865</strong></td>\n",
       "      <td>                 Santorum, Rick</td>\n",
       "      <td>                               ATTORNEY</td>\n",
       "      <td>   107130.00</td>\n",
       "    </tr>\n",
       "    <tr>\n",
       "      <td><strong>Santorum, Rick</strong></td>\n",
       "      <td><strong>39189</strong></td>\n",
       "      <td>                 Santorum, Rick</td>\n",
       "      <td>                              EXECUTIVE</td>\n",
       "      <td>   131456.55</td>\n",
       "    </tr>\n",
       "    <tr>\n",
       "      <td><strong>Santorum, Rick</strong></td>\n",
       "      <td><strong>39350</strong></td>\n",
       "      <td>                 Santorum, Rick</td>\n",
       "      <td>   INFORMATION REQUESTED (BEST EFFORTS)</td>\n",
       "      <td>   284718.10</td>\n",
       "    </tr>\n",
       "    <tr>\n",
       "      <td><strong>Santorum, Rick</strong></td>\n",
       "      <td><strong>39314</strong></td>\n",
       "      <td>                 Santorum, Rick</td>\n",
       "      <td>                              HOMEMAKER</td>\n",
       "      <td>   350597.75</td>\n",
       "    </tr>\n",
       "    <tr>\n",
       "      <td><strong>Santorum, Rick</strong></td>\n",
       "      <td><strong>39822</strong></td>\n",
       "      <td>                 Santorum, Rick</td>\n",
       "      <td>                                RETIRED</td>\n",
       "      <td>   421952.98</td>\n",
       "    </tr>\n",
       "  </tbody>\n",
       "</table>\n",
       "</div>"
      ],
      "text/plain": [
       "                                                             cand_nm                       contbr_occupation  contb_receipt_amt\n",
       "cand_nm                                                                                                                        \n",
       "Bachmann, Michelle             921                Bachmann, Michelle                               PRESIDENT           68781.00\n",
       "                               893                Bachmann, Michelle                               PHYSICIAN           76134.00\n",
       "                               555                Bachmann, Michelle                               HOMEMAKER          102540.00\n",
       "                               594                Bachmann, Michelle                   INFORMATION REQUESTED          147638.89\n",
       "                               1059               Bachmann, Michelle                                 RETIRED          824618.05\n",
       "Cain, Herman                   1537                     Cain, Herman                                     CEO          125097.00\n",
       "                               2227                     Cain, Herman                               PHYSICIAN          125790.96\n",
       "                               1898                     Cain, Herman                               HOMEMAKER          153964.07\n",
       "                               2391                     Cain, Herman                                 RETIRED          779635.51\n",
       "                               1929                     Cain, Herman                   INFORMATION REQUESTED         3838719.32\n",
       "Gingrich, Newt                 4068                   Gingrich, Newt                                   OWNER          273310.00\n",
       "                               4222                   Gingrich, Newt                               PRESIDENT          332403.00\n",
       "                               3561                   Gingrich, Newt                               HOMEMAKER          426118.26\n",
       "                               3611                   Gingrich, Newt  INFORMATION REQUESTED PER BEST EFFORTS          910147.00\n",
       "                               4484                   Gingrich, Newt                                 RETIRED         2279602.27\n",
       "Huntsman, Jon                  5470                    Huntsman, Jon                               PRESIDENT           92251.00\n",
       "                               4984                    Huntsman, Jon                                ATTORNEY          143532.50\n",
       "                               5288                    Huntsman, Jon                               HOMEMAKER          241524.79\n",
       "                               5563                    Huntsman, Jon                                 RETIRED          352669.00\n",
       "                               5301                    Huntsman, Jon  INFORMATION REQUESTED PER BEST EFFORTS          354500.00\n",
       "Johnson, Gary Earl             5773               Johnson, Gary Earl                               HOUSEWIFE           11000.00\n",
       "                               5855               Johnson, Gary Earl                           SELF-EMPLOYED           14750.00\n",
       "                               5735               Johnson, Gary Earl                              CONSULTANT           16767.76\n",
       "                               5853               Johnson, Gary Earl                           SELF EMPLOYED           18781.00\n",
       "                               5845               Johnson, Gary Earl                                 RETIRED           85763.96\n",
       "McCotter, Thaddeus G           5906             McCotter, Thaddeus G                               HOMEMAKER            2400.00\n",
       "                               5918             McCotter, Thaddeus G                                 RETIRED            2450.00\n",
       "                               5904             McCotter, Thaddeus G                              GOVERNMENT            2500.00\n",
       "                               5912             McCotter, Thaddeus G                               PHYSICIAN            3650.00\n",
       "                               5902             McCotter, Thaddeus G                               EXECUTIVE            3750.00\n",
       "Obama, Barack                  16658                   Obama, Barack                               PHYSICIAN         2244445.92\n",
       "                               13527                   Obama, Barack                   INFORMATION REQUESTED         2647247.90\n",
       "                               13113                   Obama, Barack                               HOMEMAKER         2780203.60\n",
       "                               7091                    Obama, Barack                                ATTORNEY         7112343.35\n",
       "                               18862                   Obama, Barack                                 RETIRED        15086766.92\n",
       "Paul, Ron                      25806                       Paul, Ron                               HOMEMAKER          310823.42\n",
       "                               28349                       Paul, Ron                               REQUESTED          381440.72\n",
       "                               27649                       Paul, Ron                               PHYSICIAN          509300.85\n",
       "                               24957                       Paul, Ron                                ENGINEER          612693.61\n",
       "                               28461                       Paul, Ron                                 RETIRED         1799513.76\n",
       "Pawlenty, Timothy              30758               Pawlenty, Timothy  INFORMATION REQUESTED PER BEST EFFORTS          197841.18\n",
       "                               30902               Pawlenty, Timothy                               PRESIDENT          211708.92\n",
       "                               30517               Pawlenty, Timothy                                ATTORNEY          238331.10\n",
       "                               30978               Pawlenty, Timothy                                 RETIRED          584195.00\n",
       "                               30750               Pawlenty, Timothy                               HOMEMAKER          769514.95\n",
       "Perry, Rick                    31205                     Perry, Rick                                ATTORNEY          768778.80\n",
       "                               32352                     Perry, Rick                               PRESIDENT          845150.00\n",
       "                               32546                     Perry, Rick                                 RETIRED         1091671.00\n",
       "                               31880                     Perry, Rick                               HOMEMAKER         1818443.00\n",
       "                               31916                     Perry, Rick  INFORMATION REQUESTED PER BEST EFFORTS         1975508.76\n",
       "Roemer, Charles E. 'Buddy' III 34273  Roemer, Charles E. 'Buddy' III                                 STUDENT            6733.34\n",
       "                               33538  Roemer, Charles E. 'Buddy' III                               HOMEMAKER            8195.00\n",
       "                               33004  Roemer, Charles E. 'Buddy' III                                ATTORNEY           14186.00\n",
       "                               33584  Roemer, Charles E. 'Buddy' III                   INFORMATION REQUESTED           18707.37\n",
       "                               34125  Roemer, Charles E. 'Buddy' III                                 RETIRED           73000.31\n",
       "Romney, Mitt                   37415                    Romney, Mitt                               PRESIDENT         1522751.99\n",
       "                               34633                    Romney, Mitt                                ATTORNEY         3662610.21\n",
       "                               36325                    Romney, Mitt                               HOMEMAKER         5442013.48\n",
       "                               36419                    Romney, Mitt  INFORMATION REQUESTED PER BEST EFFORTS         6394753.06\n",
       "                               37919                    Romney, Mitt                                 RETIRED         6483596.24\n",
       "Santorum, Rick                 38865                  Santorum, Rick                                ATTORNEY          107130.00\n",
       "                               39189                  Santorum, Rick                               EXECUTIVE          131456.55\n",
       "                               39350                  Santorum, Rick    INFORMATION REQUESTED (BEST EFFORTS)          284718.10\n",
       "                               39314                  Santorum, Rick                               HOMEMAKER          350597.75\n",
       "                               39822                  Santorum, Rick                                 RETIRED          421952.98"
      ]
     },
     "execution_count": 48,
     "metadata": {},
     "output_type": "execute_result"
    }
   ],
   "source": [
    "# We have so far aggregated total amount donated to each political party by occupation (the first groupby).\n",
    "# Additional groupby let us split them up by candidate, sort them in descending order by total amount donated and take the top 5.\n",
    "set_printoptions(notebook_repr_html=True)\n",
    "def top5_donors(group):\n",
    "    return group.sort_index(by='contb_receipt_amt')[-5:]\n",
    "# top5_donors(result)\n",
    "result.groupby('cand_nm').apply(top5_donors)   # The retired donated the most to Barack Obama."
   ]
  },
  {
   "cell_type": "code",
   "execution_count": 49,
   "metadata": {
    "collapsed": false
   },
   "outputs": [
    {
     "data": {
      "text/plain": [
       "BlockManager\n",
       "Items: array([Democrat, Reform, Republican], dtype=object)\n",
       "Axis 1: <class 'pandas.tseries.index.DatetimeIndex'>\n",
       "[2012-01-27 00:00:00, ..., 2012-01-31 00:00:00]\n",
       "Length: 5, Freq: None, Timezone: None\n",
       "FloatBlock: array([Democrat, Reform, Republican], dtype=object), 3 x 5, dtype float64"
      ]
     },
     "execution_count": 49,
     "metadata": {},
     "output_type": "execute_result"
    }
   ],
   "source": [
    "df._data   # Internal data structure. The back data frame. Having hierarchical indexing medicates a lot of the need for higher dimensional objects (because they're very sparse)."
   ]
  },
  {
   "cell_type": "code",
   "execution_count": null,
   "metadata": {
    "collapsed": false
   },
   "outputs": [],
   "source": [
    "# Time Series for financial data will be improved next."
   ]
  }
 ],
 "metadata": {
  "kernelspec": {
   "display_name": "Python 2",
   "language": "python",
   "name": "python2"
  },
  "language_info": {
   "codemirror_mode": {
    "name": "ipython",
    "version": 2
   },
   "file_extension": ".py",
   "mimetype": "text/x-python",
   "name": "python",
   "nbconvert_exporter": "python",
   "pygments_lexer": "ipython2",
   "version": "2.7.11"
  }
 },
 "nbformat": 4,
 "nbformat_minor": 0
}
